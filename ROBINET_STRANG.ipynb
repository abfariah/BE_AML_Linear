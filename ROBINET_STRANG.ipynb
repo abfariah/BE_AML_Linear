{
 "cells": [
  {
   "cell_type": "code",
   "execution_count": 54,
   "metadata": {},
   "outputs": [
    {
     "data": {
      "text/html": [
       "<div>\n",
       "<style scoped>\n",
       "    .dataframe tbody tr th:only-of-type {\n",
       "        vertical-align: middle;\n",
       "    }\n",
       "\n",
       "    .dataframe tbody tr th {\n",
       "        vertical-align: top;\n",
       "    }\n",
       "\n",
       "    .dataframe thead th {\n",
       "        text-align: right;\n",
       "    }\n",
       "</style>\n",
       "<table border=\"1\" class=\"dataframe\">\n",
       "  <thead>\n",
       "    <tr style=\"text-align: right;\">\n",
       "      <th></th>\n",
       "      <th>var01</th>\n",
       "      <th>var02</th>\n",
       "      <th>var03</th>\n",
       "      <th>var04</th>\n",
       "      <th>var05</th>\n",
       "      <th>var06</th>\n",
       "      <th>var07</th>\n",
       "      <th>var08</th>\n",
       "      <th>var09</th>\n",
       "      <th>var10</th>\n",
       "      <th>var11</th>\n",
       "      <th>var12</th>\n",
       "      <th>var13</th>\n",
       "      <th>var14</th>\n",
       "      <th>var15</th>\n",
       "      <th>var16</th>\n",
       "      <th>var17</th>\n",
       "      <th>var18</th>\n",
       "      <th>score</th>\n",
       "    </tr>\n",
       "  </thead>\n",
       "  <tbody>\n",
       "    <tr>\n",
       "      <th>0</th>\n",
       "      <td>11.6</td>\n",
       "      <td>6.4</td>\n",
       "      <td>4.3</td>\n",
       "      <td>7.2</td>\n",
       "      <td>14.4</td>\n",
       "      <td>19.26</td>\n",
       "      <td>39.32</td>\n",
       "      <td>50.00</td>\n",
       "      <td>13.040000</td>\n",
       "      <td>0.20</td>\n",
       "      <td>0.0440</td>\n",
       "      <td>-1.578984</td>\n",
       "      <td>2.209</td>\n",
       "      <td>9.02</td>\n",
       "      <td>0.26</td>\n",
       "      <td>94.285053</td>\n",
       "      <td>3.56</td>\n",
       "      <td>16.91</td>\n",
       "      <td>6</td>\n",
       "    </tr>\n",
       "    <tr>\n",
       "      <th>1</th>\n",
       "      <td>15.5</td>\n",
       "      <td>10.5</td>\n",
       "      <td>4.9</td>\n",
       "      <td>6.9</td>\n",
       "      <td>13.7</td>\n",
       "      <td>8.57</td>\n",
       "      <td>36.78</td>\n",
       "      <td>22.57</td>\n",
       "      <td>18.713333</td>\n",
       "      <td>0.51</td>\n",
       "      <td>0.8501</td>\n",
       "      <td>-2.497499</td>\n",
       "      <td>0.339</td>\n",
       "      <td>22.43</td>\n",
       "      <td>0.10</td>\n",
       "      <td>86.766527</td>\n",
       "      <td>7.06</td>\n",
       "      <td>-3.47</td>\n",
       "      <td>6</td>\n",
       "    </tr>\n",
       "    <tr>\n",
       "      <th>2</th>\n",
       "      <td>15.3</td>\n",
       "      <td>6.5</td>\n",
       "      <td>4.2</td>\n",
       "      <td>6.4</td>\n",
       "      <td>13.6</td>\n",
       "      <td>13.48</td>\n",
       "      <td>25.90</td>\n",
       "      <td>8.25</td>\n",
       "      <td>8.246667</td>\n",
       "      <td>0.27</td>\n",
       "      <td>0.9629</td>\n",
       "      <td>-3.638758</td>\n",
       "      <td>0.339</td>\n",
       "      <td>17.94</td>\n",
       "      <td>0.13</td>\n",
       "      <td>107.336147</td>\n",
       "      <td>3.20</td>\n",
       "      <td>10.05</td>\n",
       "      <td>10</td>\n",
       "    </tr>\n",
       "    <tr>\n",
       "      <th>3</th>\n",
       "      <td>13.4</td>\n",
       "      <td>7.7</td>\n",
       "      <td>4.1</td>\n",
       "      <td>5.8</td>\n",
       "      <td>14.2</td>\n",
       "      <td>15.23</td>\n",
       "      <td>44.36</td>\n",
       "      <td>11.09</td>\n",
       "      <td>11.093333</td>\n",
       "      <td>0.67</td>\n",
       "      <td>-0.2756</td>\n",
       "      <td>-6.273760</td>\n",
       "      <td>1.611</td>\n",
       "      <td>11.38</td>\n",
       "      <td>0.20</td>\n",
       "      <td>136.516384</td>\n",
       "      <td>4.33</td>\n",
       "      <td>-3.62</td>\n",
       "      <td>18</td>\n",
       "    </tr>\n",
       "    <tr>\n",
       "      <th>4</th>\n",
       "      <td>16.0</td>\n",
       "      <td>5.2</td>\n",
       "      <td>3.2</td>\n",
       "      <td>5.7</td>\n",
       "      <td>12.8</td>\n",
       "      <td>8.37</td>\n",
       "      <td>19.62</td>\n",
       "      <td>7.44</td>\n",
       "      <td>6.386667</td>\n",
       "      <td>0.24</td>\n",
       "      <td>-0.6928</td>\n",
       "      <td>-2.096575</td>\n",
       "      <td>0.659</td>\n",
       "      <td>8.56</td>\n",
       "      <td>0.27</td>\n",
       "      <td>88.774469</td>\n",
       "      <td>4.57</td>\n",
       "      <td>1.56</td>\n",
       "      <td>7</td>\n",
       "    </tr>\n",
       "  </tbody>\n",
       "</table>\n",
       "</div>"
      ],
      "text/plain": [
       "   var01  var02  var03  var04  var05  var06  var07  var08      var09  var10  \\\n",
       "0   11.6    6.4    4.3    7.2   14.4  19.26  39.32  50.00  13.040000   0.20   \n",
       "1   15.5   10.5    4.9    6.9   13.7   8.57  36.78  22.57  18.713333   0.51   \n",
       "2   15.3    6.5    4.2    6.4   13.6  13.48  25.90   8.25   8.246667   0.27   \n",
       "3   13.4    7.7    4.1    5.8   14.2  15.23  44.36  11.09  11.093333   0.67   \n",
       "4   16.0    5.2    3.2    5.7   12.8   8.37  19.62   7.44   6.386667   0.24   \n",
       "\n",
       "    var11     var12  var13  var14  var15       var16  var17  var18  score  \n",
       "0  0.0440 -1.578984  2.209   9.02   0.26   94.285053   3.56  16.91      6  \n",
       "1  0.8501 -2.497499  0.339  22.43   0.10   86.766527   7.06  -3.47      6  \n",
       "2  0.9629 -3.638758  0.339  17.94   0.13  107.336147   3.20  10.05     10  \n",
       "3 -0.2756 -6.273760  1.611  11.38   0.20  136.516384   4.33  -3.62     18  \n",
       "4 -0.6928 -2.096575  0.659   8.56   0.27   88.774469   4.57   1.56      7  "
      ]
     },
     "execution_count": 54,
     "metadata": {},
     "output_type": "execute_result"
    }
   ],
   "source": [
    "#+++++++++++++++++++++++++++++++++++++++++++++++++++++++++++++++++++++++++++++++++++++++++\n",
    "# Exercice 1 : Un medecin souhaite mettre en lien l'impact de differentes variables mesurees sur\n",
    "#un 'score' qu'il estime pour quantifier le niveau d'une maladie. Les donnees sont\n",
    "#sauvegardees dans le fichier 'obs2021_1.csv'. Idealement, il souhaiterait que seul un\n",
    "#sous ensemble de ces variables permette d'expliquer le score.\n",
    "#+++++++++++++++++++++++++++++++++++++++++++++++++++++++++++++++++++++++++++++++++++++++++\n",
    "\n",
    "\n",
    "\n",
    "import pandas\n",
    "import numpy as np\n",
    "import matplotlib.pyplot as plt\n",
    "np.random.seed(42)\n",
    "\n",
    "df=pandas.read_csv(\"./obs2021_1.csv\",sep=';')\n",
    "\n",
    "listColNames=list(df.columns)\n",
    "\n",
    "\n",
    "XY=df.values\n",
    "ColNb_Y=listColNames.index('score')\n",
    "\n",
    "\n",
    "Y=XY[:,ColNb_Y].reshape((XY.shape[0],1))   #reshape is to make sure that Y is a column vector\n",
    "X = np.delete(XY, ColNb_Y, 1)\n",
    "\n",
    "listColNames.pop(ColNb_Y)     #to make it contains the column names of X only\n",
    "df.head(5)"
   ]
  },
  {
   "cell_type": "code",
   "execution_count": 55,
   "metadata": {},
   "outputs": [
    {
     "data": {
      "image/png": "[encoded data removed]",
      "text/plain": [
       "<Figure size 432x288 with 1 Axes>"
      ]
     },
     "metadata": {
      "needs_background": "light"
     },
     "output_type": "display_data"
    }
   ],
   "source": [
    "#QUESTION 1.1 : Observez les donnees unes par unes. Est-ce que vous identifiez visuellement des liens entre\n",
    "#certaines variables et la variable 'score'. Si oui, lesquels ?\n",
    "\n",
    "for Col in range(len(listColNames)):\n",
    "  plt.plot(X[:,Col],Y[:],'.')\n",
    "  plt.xlabel(listColNames[Col])\n",
    "  plt.ylabel('score')\n",
    "  #plt.show()\n",
    "\n",
    "\n",
    "#### Les variables 1, 12, 16,"
   ]
  },
  {
   "cell_type": "code",
   "execution_count": 56,
   "metadata": {},
   "outputs": [
    {
     "data": {
      "image/png": "[encoded data removed]",
      "text/plain": [
       "<Figure size 432x288 with 1 Axes>"
      ]
     },
     "metadata": {
      "needs_background": "light"
     },
     "output_type": "display_data"
    },
    {
     "data": {
      "image/png": "[encoded data removed]",
      "text/plain": [
       "<Figure size 432x288 with 1 Axes>"
      ]
     },
     "metadata": {
      "needs_background": "light"
     },
     "output_type": "display_data"
    },
    {
     "data": {
      "image/png": "[encoded data removed]",
      "text/plain": [
       "<Figure size 432x288 with 1 Axes>"
      ]
     },
     "metadata": {
      "needs_background": "light"
     },
     "output_type": "display_data"
    },
    {
     "name": "stdout",
     "output_type": "stream",
     "text": [
      "[13.548795843877867, 13.523200532992492, 3.833346710573031]\n"
     ]
    }
   ],
   "source": [
    "#QUESTION 1.2 :   On se demande si il est possible de predire le niveau de 'score' à partir d'une\n",
    "#               seule des variables 'var02', 'var09' ou 'var16'.\n",
    "\n",
    "#QUESTION 1.2.1 : Effectuez une regression lineaire simple entre 'score' et chacune de ces\n",
    "#               variables.  Toutes les donnees seront utilisees pour l'apprentissage. Evaluez alors la\n",
    "#               qualité des predictions, sur toutes les donnees, l'aide de la moyenne de l'erreur de\n",
    "#               prediction sur toutes les donnees, l'aide de la moyenne de l'erreur de prediction au\n",
    "#               carre (MSE). Quel est le risque potentiel en utilisant cette stratégie de validation\n",
    "#               de l'apprentissage ?\n",
    "\n",
    "from sklearn.linear_model import LinearRegression\n",
    "L= [1,8,15]\n",
    "MSE = []\n",
    "for x in L:\n",
    "    X2= X[:,x,np.newaxis]\n",
    "    lr = LinearRegression()\n",
    "\n",
    "    lr.fit(X2,Y)\n",
    "\n",
    "    fig = plt.figure()\n",
    "    plt.plot(X2, Y, 'r.')\n",
    "    Y_pred = lr.predict(X2)\n",
    "    erreur = Y_pred - Y\n",
    "    mse = np.mean(erreur*erreur)\n",
    "    MSE += [mse]\n",
    "    plt.plot(X2, Y_pred, 'b-')\n",
    "    plt.legend(('Data', 'Linear Fit'), loc='lower right')\n",
    "    plt.title('Linear regression')\n",
    "    plt.show()\n",
    "\n",
    "print (MSE)"
   ]
  },
  {
   "cell_type": "code",
   "execution_count": 57,
   "metadata": {},
   "outputs": [
    {
     "name": "stdout",
     "output_type": "stream",
     "text": [
      "1  total:  14.941458117496378\n",
      "8  total:  14.25287157588833\n",
      "15  total:  4.119884056119778\n"
     ]
    }
   ],
   "source": [
    "#QUESTION 1.2.2 : Evaluez a quel point les predictions sont stables a l'aide d'une methode de validation croisee\n",
    "#               de type 5-folds.\n",
    "\n",
    "\n",
    "from sklearn.model_selection import KFold\n",
    "from sklearn.metrics import mean_squared_error\n",
    "\n",
    "kf = KFold(n_splits=5)\n",
    "for l in L:\n",
    "  sum_mse_scores=0.\n",
    "  for train, test in kf.split(X):\n",
    "        X_train=X[train,l, np.newaxis]\n",
    "        y_train=Y[train]\n",
    "        X_test=X[test,l,np.newaxis]\n",
    "        y_test=Y[test]\n",
    "    \n",
    "        lr = LinearRegression()\n",
    "        lr.fit(X_train, y_train)\n",
    "    \n",
    "        y_pred = lr.predict(X_test)\n",
    "        mse_score = mean_squared_error(y_test, y_pred)\n",
    "        sum_mse_scores+=mse_score\n",
    "  print(l,\" total: \",sum_mse_scores/5)\n"
   ]
  },
  {
   "cell_type": "code",
   "execution_count": 58,
   "metadata": {},
   "outputs": [
    {
     "data": {
      "text/plain": [
       "(66,)"
      ]
     },
     "execution_count": 58,
     "metadata": {},
     "output_type": "execute_result"
    }
   ],
   "source": [
    "Y_mean = np.ones(len(Y))\n",
    "mean = sum(Y)/len(Y)\n",
    "for i in range(66):\n",
    "    Y_mean[i] = mean\n",
    "\n",
    "Y_mean.shape\n",
    "\n"
   ]
  },
  {
   "cell_type": "code",
   "execution_count": 59,
   "metadata": {},
   "outputs": [
    {
     "data": {
      "image/png": "[encoded data removed]",
      "text/plain": [
       "<Figure size 432x288 with 1 Axes>"
      ]
     },
     "metadata": {
      "needs_background": "light"
     },
     "output_type": "display_data"
    },
    {
     "data": {
      "image/png": "[encoded data removed]",
      "text/plain": [
       "<Figure size 432x288 with 1 Axes>"
      ]
     },
     "metadata": {
      "needs_background": "light"
     },
     "output_type": "display_data"
    },
    {
     "data": {
      "image/png": "[encoded data removed]",
      "text/plain": [
       "<Figure size 432x288 with 1 Axes>"
      ]
     },
     "metadata": {
      "needs_background": "light"
     },
     "output_type": "display_data"
    },
    {
     "name": "stdout",
     "output_type": "stream",
     "text": [
      "[array([0.00146257]), array([0.00334893]), array([0.71748484])]\n"
     ]
    }
   ],
   "source": [
    "#QUESTION 1.2.3 : Peut-on enfin dire si on observe une relation significative entre 'score'\n",
    "#               et (independament) 'var02', 'var09' ou bien 'var16'. On peut le valider\n",
    "#               a l'aide d'un test d'hypothese dont on decrira la procedure.\n",
    "\n",
    "#### On considère qu'il y a bien corrélation si R**2 > 0,7\n",
    "\n",
    "from sklearn.linear_model import LinearRegression\n",
    "L= [1,8,15]\n",
    "MSE = []\n",
    "R = []\n",
    "for x in L:\n",
    "    X2= X[:,x,np.newaxis]\n",
    "    lr = LinearRegression()\n",
    "\n",
    "    lr.fit(X2,Y)\n",
    "\n",
    "    fig = plt.figure()\n",
    "    plt.plot(X2, Y, 'r.')\n",
    "    Y_pred = lr.predict(X2)\n",
    "    SST = sum((Y-mean)*(Y-mean))\n",
    "    SSR = sum((Y_pred-mean)*(Y_pred-mean))\n",
    "    erreur = Y_pred - Y\n",
    "    mse = np.mean(erreur*erreur)\n",
    "    MSE += [mse]\n",
    "    r = SSR/SST\n",
    "    R+= [r]\n",
    "    plt.plot(X2, Y_pred, 'b-')\n",
    "    plt.legend(('Data', 'Linear Fit'), loc='lower right')\n",
    "    plt.title('Linear regression')\n",
    "    plt.show()\n",
    "\n",
    "print (R)"
   ]
  },
  {
   "cell_type": "code",
   "execution_count": 60,
   "metadata": {},
   "outputs": [
    {
     "name": "stdout",
     "output_type": "stream",
     "text": [
      "[(29, 0.30104958877196186), (48, 0.2897340217675924)]\n",
      "[(49, 9.480069068487184), (29, 9.513469491267475)]\n"
     ]
    },
    {
     "data": {
      "image/png": "[encoded data removed]",
      "text/plain": [
       "<Figure size 432x288 with 1 Axes>"
      ]
     },
     "metadata": {
      "needs_background": "light"
     },
     "output_type": "display_data"
    }
   ],
   "source": [
    "#QUESTION 1.3 : On s'interesse maintenant au lien entre la variable 'score' et 'var12'.\n",
    "#               On peut remarquer que ces donnees contiennent deux valeurs aberrantes.\n",
    "#\n",
    "#QUESTION 1.3.1 : Definissez une procedure pour detecter automatiquement deux donnees aberrantes dans\n",
    "#               un jeu de donnees.\n",
    "#\n",
    "\n",
    "### Test de la qualité de la regression après suppression d'une observation\n",
    "\n",
    "from sklearn.linear_model import LinearRegression\n",
    "L= 11\n",
    "MSE = []\n",
    "R = []\n",
    "plt.plot(X[:,11],Y[:],'.')\n",
    "for i in range(66):\n",
    "    X2= np.concatenate((X[:i,L,np.newaxis],X[i+1:,L,np.newaxis]),axis=0)\n",
    "    lr = LinearRegression()\n",
    "    Y2= np.concatenate((Y[:i],Y[i+1:]),axis=0)\n",
    "    lr.fit(X2,Y2)\n",
    "\n",
    " \n",
    "    Y_pred = lr.predict(X2)\n",
    "    SST = np.sum((Y2-mean)*(Y2-mean))\n",
    "    SSR = np.sum((Y_pred-mean)*(Y_pred-mean))\n",
    "    erreur = Y_pred - Y2\n",
    "    mse = np.mean(erreur*erreur)\n",
    "    MSE += [mse]\n",
    "    r = SSR/SST\n",
    "    R+= [r]\n",
    "\n",
    "#print(MSE)\n",
    "#print(R)\n",
    "\n",
    "\n",
    "############### Recherche d'outlier #########\n",
    "\n",
    "## Méthode de maximisation du R²\n",
    "Outlier1 = []\n",
    "rMax = max(R)\n",
    "rMax_ind = R.index(rMax)\n",
    "R.pop(rMax_ind)\n",
    "Outlier1 += [(rMax_ind,rMax)]\n",
    "rMax2 = max(R)\n",
    "rMax_ind2 = R.index(rMax2)\n",
    "R.pop(rMax_ind2)\n",
    "Outlier1 += [(rMax_ind2,rMax2)]\n",
    "print(Outlier1)\n",
    "\n",
    "## Méthode de minimisation de la MSE\n",
    "Outlier2 = []\n",
    "mMin = min(MSE)\n",
    "mMin_ind = MSE.index(mMin)\n",
    "MSE.pop(mMin_ind)\n",
    "Outlier2 += [(mMin_ind,mMin)]\n",
    "mMin2 = min(MSE)\n",
    "mMin_ind2 = MSE.index(mMin2)\n",
    "MSE.pop(mMin_ind2)\n",
    "Outlier2 += [(mMin_ind2,mMin2)]\n",
    "print(Outlier2)\n",
    "\n"
   ]
  },
  {
   "cell_type": "code",
   "execution_count": 61,
   "metadata": {},
   "outputs": [
    {
     "data": {
      "text/plain": [
       "[<matplotlib.lines.Line2D at 0x7febab3e7970>]"
      ]
     },
     "execution_count": 61,
     "metadata": {},
     "output_type": "execute_result"
    },
    {
     "data": {
      "image/png": "[encoded data removed]",
      "text/plain": [
       "<Figure size 432x288 with 1 Axes>"
      ]
     },
     "metadata": {
      "needs_background": "light"
     },
     "output_type": "display_data"
    }
   ],
   "source": [
    "#QUESTION 1.3.2 : Nous supprimerons dans la suite de cet exercice les deux observations qui sont aberrantes sur\n",
    "#               la variable 'var12'. \n",
    "\n",
    "### Suppression des Outliers\n",
    "\n",
    "X_new = np.delete(X,29,0)\n",
    "X_new2 = np.delete(X_new,48,0)\n",
    "Y_new = np.delete(Y,29)\n",
    "Y_new2 = np.delete(Y_new,48)\n",
    "plt.plot(X_new2[:,11],Y_new2[:],'.')\n",
    "\n"
   ]
  },
  {
   "cell_type": "code",
   "execution_count": 62,
   "metadata": {},
   "outputs": [],
   "source": [
    "#QUESTION 1.3.2 : . Comment auriez-vous traite ces observations si vous aviez absolument\n",
    "#                voulu preserver l'information qu'elles contiennent dans les autres variables ?\n",
    "\n",
    "\n",
    "# Remplacer les valeurs par une prédicition : on apprend sur les n-2 observations, puis on remplace les deux outliers \n",
    "# par la prédiction de notre régression linéaire. "
   ]
  },
  {
   "cell_type": "code",
   "execution_count": 63,
   "metadata": {},
   "outputs": [
    {
     "name": "stdout",
     "output_type": "stream",
     "text": [
      "1.0\n",
      "(64, 18)\n"
     ]
    }
   ],
   "source": [
    "#QUESTION 1.4 :   Une fois les deux observations aberrantes de 'var12' supprimees, on souhaite selectionner les\n",
    "#               variables de 'X' qui permettent de prédire au mieux 'score' a l'aide de la\n",
    "#               regression multiple regularisee.\n",
    "\n",
    "#QUESTION 1.4.1 : Quelle strategie vous semble la plus appropriee pour selectionner les variables les plus\n",
    "#               pertinentes ? Quel pretraitement allez-vous de meme effectuer sur les donnees.\n",
    "\n",
    "### Regression Lasso --> Normaliser les vecteurs\n",
    "\n",
    "from sklearn.preprocessing import normalize\n",
    "\n",
    "for i in range(X_new2.shape[1]):\n",
    "    X_new2[:,i] = X_new2[:,i]/np.linalg.norm(X_new2[:,i])\n",
    "\n",
    "#Y_new2 = Y_new2/np.linalg.norm(Y_new2)\n",
    "thresh= len(X_new2) // 2\n",
    "X_train = X_new2[thresh:]\n",
    "y_train = Y_new2[thresh:]\n",
    "X_test = X_new2[:thresh]\n",
    "y_test = Y_new2[:thresh]\n",
    "print(np.linalg.norm(X_new2[:,1]))\n",
    "print(X_new2.shape)"
   ]
  },
  {
   "cell_type": "code",
   "execution_count": 64,
   "metadata": {},
   "outputs": [
    {
     "data": {
      "image/png": "[encoded data removed]",
      "text/plain": [
       "<Figure size 432x288 with 1 Axes>"
      ]
     },
     "metadata": {
      "needs_background": "light"
     },
     "output_type": "display_data"
    }
   ],
   "source": [
    "#QUESTION 1.4.2 : Effectuez la procedure de selection des variables optimales en parametrant a la main le poids\n",
    "#               entre la qualite de prediction et le niveau de regularisation.\n",
    "\n",
    "from sklearn.linear_model import Lasso\n",
    "from sklearn.model_selection import KFold\n",
    "\n",
    "alpha = 0.03\n",
    "\n",
    "lasso_regressor = Lasso(alpha=alpha)\n",
    "lasso_regressor.fit(X_train, y_train)\n",
    "\n",
    "y_pred_lasso = lasso_regressor.predict(X_test)\n",
    "mse_score_lasso = mean_squared_error(y_test, y_pred_lasso)\n",
    "\n",
    "fig = plt.figure()\n",
    "plt.plot(y_test, y_pred_lasso, 'r.')\n",
    "plt.xlabel('True value')\n",
    "plt.ylabel('Predicted value')\n",
    "plt.title('True vs predicted value (mse='+str(mse_score_lasso)+')')\n",
    "plt.show()\n"
   ]
  },
  {
   "cell_type": "code",
   "execution_count": 65,
   "metadata": {},
   "outputs": [
    {
     "name": "stdout",
     "output_type": "stream",
     "text": [
      "0.02  total:  3.119443067015996\n",
      "List des Betas -->  [0.0, -0.0, -0.0, -0.0, -0.0, -0.0, 0.0, -0.0, -0.0, 0.001882125965932028, -0.0, -20.731233848275508, 0.0, -0.0, -0.0, 38.613653113739176, -0.0, -0.09371821364885022]\n",
      "0.022  total:  3.144544024681662\n",
      "List des Betas -->  [0.0, -0.0, -0.0, -0.0, -0.0, -0.0, 0.0, -0.0, -0.0, 0.0, -0.0, -20.466037009989336, 0.0, -0.0, -0.0, 38.06119137459904, -0.0, -0.0]\n",
      "0.024  total:  3.176255320768147\n",
      "List des Betas -->  [0.0, -0.0, -0.0, -0.0, -0.0, -0.0, 0.0, -0.0, -0.0, 0.0, -0.0, -20.182567781181106, 0.0, -0.0, -0.0, 37.541548216725126, -0.0, -0.0]\n"
     ]
    }
   ],
   "source": [
    "#### Paramétrisation \"à la main\" du poids alpha\n",
    "\n",
    "kf = KFold(n_splits=5)\n",
    "for alpha in [0.02,0.022,0.024]:\n",
    "  sum_mse_scores=0.\n",
    "  compteur = 0\n",
    "  for train, test in kf.split(X_new2):\n",
    "    compteur +=1\n",
    "    X_train=X_new2[train]\n",
    "    y_train=Y_new2[train]\n",
    "    X_test=X_new2[test]\n",
    "    y_test=Y_new2[test]\n",
    "  \n",
    "    lasso_regressor = Lasso(alpha=alpha)\n",
    "    lasso_regressor.fit(X_train, y_train)\n",
    "    y_pred_lasso = lasso_regressor.predict(X_test)\n",
    "    mse_score_lasso = mean_squared_error(y_test, y_pred_lasso)\n",
    "    sum_mse_scores+=mse_score_lasso\n",
    "\n",
    "\n",
    "  print(alpha,\" total: \", sum_mse_scores/compteur)\n",
    "  print(\"List des Betas --> \", lasso_regressor.coef_.tolist())\n",
    "\n"
   ]
  },
  {
   "cell_type": "code",
   "execution_count": 66,
   "metadata": {},
   "outputs": [],
   "source": [
    "### alpha optimal --> 0.022"
   ]
  },
  {
   "cell_type": "code",
   "execution_count": 67,
   "metadata": {},
   "outputs": [
    {
     "name": "stdout",
     "output_type": "stream",
     "text": [
      "0.5220000000000004 12001.88430090851 12015.664968221265\n"
     ]
    }
   ],
   "source": [
    "#QUESTION 1.4.3 : Effectuez la procedure automatique de parametrisation de ce poids, de sorte a ce qu'un maximum\n",
    "#               de trois variables soit typiquement selectionne et que la qualite de prediction soit optimale.\n",
    "#               Quelle methode de validation croisee vous semble la plus raisonnable ici ? La selection des\n",
    "#               variables est-elle stable ?\n",
    "\n",
    "alpha = 0.022\n",
    "mse1 = 1\n",
    "mse2 = 0\n",
    "n=0\n",
    "while (abs(mse1-mse2)>10**(-1) and n<500):\n",
    "    n+=1\n",
    "    A = [alpha+0.01,alpha-0.01]\n",
    "    for a in A:\n",
    "        compteur=0\n",
    "        for train, test in kf.split(X_new2):\n",
    "            compteur +=1\n",
    "            X_train=X_new2[train]\n",
    "            y_train=Y_new2[train]\n",
    "            X_test=X_new2[test]\n",
    "            y_test=Y_new2[test]\n",
    "        \n",
    "            lasso_regressor = Lasso(alpha=a)\n",
    "            lasso_regressor.fit(X_train, y_train)\n",
    "            y_pred_lasso = lasso_regressor.predict(X_test)\n",
    "            mse_score_lasso = mean_squared_error(y_test, y_pred_lasso)\n",
    "            #print(\"mse :\", mse_score_lasso)\n",
    "            sum_mse_scores+=mse_score_lasso\n",
    "            if a>alpha:\n",
    "                mse1=sum_mse_scores/compteur\n",
    "            else:\n",
    "                mse2=sum_mse_scores/compteur\n",
    "    if mse1>mse2:\n",
    "        alpha -= 0.001\n",
    "    else:\n",
    "        alpha += 0.001\n",
    "\n",
    "print(alpha,mse1,mse2)\n",
    "\n",
    "    \n"
   ]
  },
  {
   "cell_type": "code",
   "execution_count": 128,
   "metadata": {},
   "outputs": [
    {
     "data": {
      "image/png": "[encoded data removed]",
      "text/plain": [
       "<Figure size 504x504 with 1 Axes>"
      ]
     },
     "metadata": {
      "needs_background": "light"
     },
     "output_type": "display_data"
    },
    {
     "data": {
      "text/html": [
       "<div>\n",
       "<style scoped>\n",
       "    .dataframe tbody tr th:only-of-type {\n",
       "        vertical-align: middle;\n",
       "    }\n",
       "\n",
       "    .dataframe tbody tr th {\n",
       "        vertical-align: top;\n",
       "    }\n",
       "\n",
       "    .dataframe thead th {\n",
       "        text-align: right;\n",
       "    }\n",
       "</style>\n",
       "<table border=\"1\" class=\"dataframe\">\n",
       "  <thead>\n",
       "    <tr style=\"text-align: right;\">\n",
       "      <th></th>\n",
       "      <th>Groupe</th>\n",
       "      <th>concentration</th>\n",
       "      <th>Efficacite</th>\n",
       "    </tr>\n",
       "  </thead>\n",
       "  <tbody>\n",
       "    <tr>\n",
       "      <th>0</th>\n",
       "      <td>Groupe_1</td>\n",
       "      <td>3.9479</td>\n",
       "      <td>3.2224</td>\n",
       "    </tr>\n",
       "    <tr>\n",
       "      <th>1</th>\n",
       "      <td>Groupe_1</td>\n",
       "      <td>1.7838</td>\n",
       "      <td>1.5127</td>\n",
       "    </tr>\n",
       "    <tr>\n",
       "      <th>2</th>\n",
       "      <td>Groupe_1</td>\n",
       "      <td>7.4415</td>\n",
       "      <td>4.3736</td>\n",
       "    </tr>\n",
       "    <tr>\n",
       "      <th>3</th>\n",
       "      <td>Groupe_1</td>\n",
       "      <td>8.5625</td>\n",
       "      <td>5.2151</td>\n",
       "    </tr>\n",
       "    <tr>\n",
       "      <th>4</th>\n",
       "      <td>Groupe_1</td>\n",
       "      <td>9.8002</td>\n",
       "      <td>5.4256</td>\n",
       "    </tr>\n",
       "  </tbody>\n",
       "</table>\n",
       "</div>"
      ],
      "text/plain": [
       "     Groupe  concentration  Efficacite\n",
       "0  Groupe_1         3.9479      3.2224\n",
       "1  Groupe_1         1.7838      1.5127\n",
       "2  Groupe_1         7.4415      4.3736\n",
       "3  Groupe_1         8.5625      5.2151\n",
       "4  Groupe_1         9.8002      5.4256"
      ]
     },
     "execution_count": 128,
     "metadata": {},
     "output_type": "execute_result"
    }
   ],
   "source": [
    "#+++++++++++++++++++++++++++++++++++++++++++++++++++++++++++++++++++++++++++++++++++++++++   \n",
    "# Exercice 2 : Lors d'essais cliniques, un groupe pharmaceutique souhaite savoir si la\n",
    "#              concentration d'un produit dans un traitement pour la vue a le meme effet\n",
    "#              sur deux sous populations. Les resultats d'observations sont regroupes dans\n",
    "#              le fichier obs2021_2.csv. Dans chacun des groupes, on supposera que le lien\n",
    "#              entre la concentration du produit et l'efficacite du traitement est lineaire.\n",
    "#              Definissez et appliquez une methodologie pour tester si l'impact de cette\n",
    "#              concentration est similaire dans les deux groupes ?\n",
    "#+++++++++++++++++++++++++++++++++++++++++++++++++++++++++++++++++++++++++++++++++++++++++\n",
    "\n",
    "\n",
    "import pandas as pd\n",
    "import numpy as np\n",
    "import matplotlib.pyplot as plt\n",
    "from scipy import stats\n",
    "\n",
    "df=pd.read_csv(\"./obs2021_2.csv\",sep=',')\n",
    "\n",
    "plt.figure(figsize=(7,7))\n",
    "plt.scatter(df['concentration'], df['Efficacite'], c=['r' if t == 'Groupe_1' else 'b' for t in df['Groupe']])\n",
    "plt.xlabel(\"concentration\")\n",
    "plt.ylabel(\"Efficacite\")\n",
    "plt.show()\n",
    "\n",
    "df.head()"
   ]
  },
  {
   "cell_type": "code",
   "execution_count": 120,
   "metadata": {},
   "outputs": [
    {
     "data": {
      "text/plain": [
       "[<matplotlib.lines.Line2D at 0x7febaae52610>]"
      ]
     },
     "execution_count": 120,
     "metadata": {},
     "output_type": "execute_result"
    },
    {
     "data": {
      "image/png": "[encoded data removed]",
      "text/plain": [
       "<Figure size 432x288 with 1 Axes>"
      ]
     },
     "metadata": {
      "needs_background": "light"
     },
     "output_type": "display_data"
    }
   ],
   "source": [
    "### Nous proposons dans un premier temps de faire une régression linéaire sur l'ensemble des individus, et de calculer la \n",
    "### variabilité des résidus pour chaque groupe. On effectue alors une analyse de variance pour estimer si les deux groupes\n",
    "### ont les mêmes résidus moyens.\n",
    "\n",
    "\n",
    "X = df.concentration.values\n",
    "X = X[:,np.newaxis]\n",
    "Y = df.Efficacite.values\n",
    "lr = LinearRegression()\n",
    "lr.fit(X,Y)\n",
    "Yhat = lr.predict(X)\n",
    "plt.plot(X,Y,'b.')\n",
    "plt.plot(X,Yhat,'r-')"
   ]
  },
  {
   "cell_type": "code",
   "execution_count": 126,
   "metadata": {},
   "outputs": [],
   "source": [
    "#   H0 : Les deux groupes ont les mêmes moyennes résiduelles par rapport à la droite de régression linéaire.\n",
    "#   H1 : Les deux groupes n'ont pas les mêmes moyennes résiduelles par rapport à la droite de régression linéaire.\n",
    "\n",
    "\n",
    "Residus = Y-Yhat\n",
    "Residus1 = Y[:50]-Yhat[:50]\n",
    "Residus2 = Y[50:]-Yhat[50:]\n",
    "MoyResidus1=sum(Residus1)/len(Residus1)\n",
    "MoyResidus2=sum(Residus2)/len(Residus2)\n",
    "MoyResidus=np.mean(Residus)\n",
    "VarResidus1 = sum((Residus1-MoyResidus1)**2)/(50-1)\n",
    "VarResidus2 = sum((Residus2-MoyResidus2)**2)/(20-1)\n",
    "VarResidus = sum((Residus-MoyResidus)**2)/(70-2)\n"
   ]
  },
  {
   "cell_type": "code",
   "execution_count": 133,
   "metadata": {},
   "outputs": [
    {
     "name": "stdout",
     "output_type": "stream",
     "text": [
      "8.105092590348622e-08\n",
      "Moyenne des résidus (=0) : 3.108624468950438e-16 Moy Résidus 1 :  -0.21341512424696762 Moy Résidus 2 :  0.53353781061742\n"
     ]
    }
   ],
   "source": [
    "### ANOVA\n",
    "\n",
    "SST = sum((Residus - MoyResidus)**2)\n",
    "SSW = sum((Residus1-MoyResidus1)**2)+sum((Residus2-MoyResidus2)**2)\n",
    "SSB = 50*(MoyResidus1-MoyResidus)**2+20*(MoyResidus2-MoyResidus)**2\n",
    "\n",
    "DFBetween = 2-1\n",
    "DFWithin = 70-2\n",
    "\n",
    "\n",
    "MSW = SSW/DFWithin\n",
    "MSB = SSB/DFBetween\n",
    "\n",
    "F = MSB/MSW\n",
    "\n",
    "p = stats.f.sf(F, DFBetween, DFWithin)\n",
    "print(p)\n",
    "print(\"Moyenne des résidus (=0) :\", MoyResidus, \"Moy Résidus 1 : \", MoyResidus1, \"Moy Résidus 2 : \",MoyResidus2)"
   ]
  },
  {
   "cell_type": "code",
   "execution_count": null,
   "metadata": {},
   "outputs": [],
   "source": [
    "### p est très largement inférieur à 0.05, il est donc extrêmement improbable que les groupe 1 et 2 aient des moyennes résiduelles égales.\n",
    "### On en déduit que abs(MoyResidus) < abs(MoyResidus2) (Rejet de l'hypothèse nulle) et donc que la régression linéaire proposée \n",
    "### ne permet pas de rendre compte aussi fidèlement du comportement du médicament sur le groupe 1 que sur le groupe 2. C'est logique, puisque\n",
    "### le groupe 1 est surreprésenté dans le panel d'observations. \n",
    "\n",
    "\n",
    "### L'hypothèse de départ était que le lien entre la concentration de médicament et son efficaté était linéaire dans chacun des groupes. Nous \n",
    "### proposons à présent de tester cette hypothèse. \n"
   ]
  },
  {
   "cell_type": "code",
   "execution_count": 151,
   "metadata": {},
   "outputs": [
    {
     "data": {
      "text/plain": [
       "[<matplotlib.lines.Line2D at 0x7febaadbb1f0>]"
      ]
     },
     "execution_count": 151,
     "metadata": {},
     "output_type": "execute_result"
    },
    {
     "data": {
      "image/png": "[encoded data removed]",
      "text/plain": [
       "<Figure size 432x288 with 1 Axes>"
      ]
     },
     "metadata": {
      "needs_background": "light"
     },
     "output_type": "display_data"
    },
    {
     "data": {
      "image/png": "[encoded data removed]",
      "text/plain": [
       "<Figure size 432x288 with 1 Axes>"
      ]
     },
     "metadata": {
      "needs_background": "light"
     },
     "output_type": "display_data"
    }
   ],
   "source": [
    "### Nous proposons dans un second de temps d'effectuer une Regression linéaire sur chaque groupe, afin de vérifier leur caractère linéaire, \n",
    "### puis de réaliser une analyse de variance.\n",
    "\n",
    "# H01 la fonction est considérée linéaire si R²>0,9 et quasi linéaire si 0.7 < R² < 0.9\n",
    "# H02 la fonction est considérée quasi linéaire si 0.7 < R² < 0.9\n",
    "# H03 les deux moyennes sont considérés égales si 1-cf la fonction génératrice de la statistique de Fischer prise sur les écarts résiduels\n",
    "# est supérieure à 0,05.\n",
    "\n",
    "\n",
    "### Régression Linéaire sur les groupe 1 et 2\n",
    "\n",
    "X1 = df[df.Groupe=='Groupe_1'].concentration.values\n",
    "X1 = X1[:,np.newaxis]\n",
    "Y1 = df[df.Groupe=='Groupe_1'].Efficacite.values\n",
    "\n",
    "X2 = df[df.Groupe=='Groupe_2'].concentration.values\n",
    "X2 = X2[:,np.newaxis]\n",
    "Y2 = df[df.Groupe=='Groupe_2'].Efficacite.values\n",
    "\n",
    "lr1 = LinearRegression()\n",
    "lr2 = LinearRegression()\n",
    "\n",
    "lr1.fit(X1,Y1)\n",
    "lr2.fit(X2,Y2)\n",
    "\n",
    "Y1hat = lr1.predict(X1)\n",
    "Y2hat = lr1.predict(X2)\n",
    "\n",
    "plt.plot(X2,Y2,'r.')\n",
    "plt.plot(X1,Y1,'b.')\n",
    "plt.plot(X1,Y1hat,'b-')\n",
    "\n",
    "plt.figure()\n",
    "plt.plot(X2,Y2,'r.')\n",
    "plt.plot(X1,Y1,'b.')\n",
    "plt.plot(X2,lr2.predict(X2),'r-')"
   ]
  },
  {
   "cell_type": "code",
   "execution_count": 159,
   "metadata": {},
   "outputs": [
    {
     "name": "stdout",
     "output_type": "stream",
     "text": [
      "R1² =  0.932629020148961 MSE1 =  0.12887409752130752\n",
      "R2² =  0.7949154120026494 MSE2 =  0.2216057613258669\n"
     ]
    }
   ],
   "source": [
    "### Etude de la linéarité\n",
    "\n",
    "\n",
    "### Première régression\n",
    "\n",
    "Residus1 = Y1-Y1hat\n",
    "MSE1 = np.mean(Residus1**2)\n",
    "SST = sum((Y1-np.mean(Y1))**2)\n",
    "SSR = sum((Y1hat-np.mean(Y1))**2)\n",
    "R1 = SSR/SST\n",
    "print(\"R1² = \", R1, \"MSE1 = \", MSE1)\n",
    "\n",
    "### On a bien R1²>0.9, l'hypothèse H01 est retenue, la fonction est linéaire\n",
    "\n",
    "### Deuxième régression\n",
    "\n",
    "Res2 = Y2-lr2.predict(X2)\n",
    "MSE2 = np.mean(Res2**2)\n",
    "SST = sum((Y2-np.mean(Y2))**2)\n",
    "SSR = sum((lr2.predict(X2)-np.mean(Y2))**2)\n",
    "R2 = SSR/SST\n",
    "print(\"R2² = \", R2, \"MSE2 = \", MSE2)\n",
    "\n",
    "### 0,7<R2²<0,9, l'hypothèse H02 est retenue, la fonction est quasie linéaire."
   ]
  },
  {
   "cell_type": "code",
   "execution_count": 141,
   "metadata": {},
   "outputs": [],
   "source": [
    "Residus1 = Y1-Y1hat\n",
    "MSE1 = np.mean(Residus1**2)\n",
    "Residus2 = Y2-Y2hat\n",
    "MSE2 = np.mean(Residus2**2)\n",
    "MoyResidus1=sum(Residus1)/len(Residus1)\n",
    "MoyResidus2=sum(Residus2)/len(Residus2)\n",
    "MoyResidus=np.mean(Residus)\n",
    "VarResidus1 = sum((Residus1-MoyResidus1)**2)/(50-1)\n",
    "VarResidus2 = sum((Residus2-MoyResidus2)**2)/(20-1)\n",
    "VarResidus = sum((Residus-MoyResidus)**2)/(70-2)"
   ]
  },
  {
   "cell_type": "code",
   "execution_count": 145,
   "metadata": {},
   "outputs": [
    {
     "name": "stdout",
     "output_type": "stream",
     "text": [
      "7.79458117894562e-10\n",
      "Moy Résidus 1 :  2.220446049250313e-16 Moy Résidus 2 :  0.7955788369852078\n",
      "MSE premier groupe :  0.12887409752130752 MSE deuxième groupe 1.1540245966090068\n"
     ]
    }
   ],
   "source": [
    "\n",
    "SSW = sum((Residus1-MoyResidus1)**2)+sum((Residus2-MoyResidus2)**2)\n",
    "SSB = 50*(MoyResidus1-MoyResidus)**2+20*(MoyResidus2-MoyResidus)**2\n",
    "\n",
    "DFBetween = 2-1\n",
    "DFWithin = 70-2\n",
    "\n",
    "\n",
    "MSW = SSW/DFWithin\n",
    "MSB = SSB/DFBetween\n",
    "\n",
    "F = MSB/MSW\n",
    "\n",
    "p = stats.f.sf(F, DFBetween, DFWithin)\n",
    "\n",
    "print(p)\n",
    "print(\"Moy Résidus 1 : \", MoyResidus1, \"Moy Résidus 2 : \",MoyResidus2)\n",
    "print(\"MSE premier groupe : \", MSE1 , \"MSE deuxième groupe\", MSE2)\n"
   ]
  },
  {
   "cell_type": "code",
   "execution_count": null,
   "metadata": {},
   "outputs": [],
   "source": [
    "### On a cette fois ci p ~ e-10, ce qui nous permet une nouvelle fois de rejeter l'hypothèse d'égalité des moyennes résiduelles.\n",
    "\n",
    "### En conclusion, on a bien montré que l'efficacité du médicament chez le groupe 1 était une fonction linéaire de la concentration et que ce\n",
    "### le modèle linéaire associé au groupe 1 n'était pas satisfaisants pour expliquer le comportement du médicament dans le groupe 2!"
   ]
  }
 ],
 "metadata": {
  "interpreter": {
   "hash": "195f3ae2314d55ede86a5cc98f36a0a76f1a42737916a54be005627c1df6a773"
  },
  "kernelspec": {
   "display_name": "Python 3.9.7 64-bit ('linear': conda)",
   "name": "python3"
  },
  "language_info": {
   "codemirror_mode": {
    "name": "ipython",
    "version": 3
   },
   "file_extension": ".py",
   "mimetype": "text/x-python",
   "name": "python",
   "nbconvert_exporter": "python",
   "pygments_lexer": "ipython3",
   "version": "3.9.7"
  },
  "orig_nbformat": 4
 },
 "nbformat": 4,
 "nbformat_minor": 2
}
